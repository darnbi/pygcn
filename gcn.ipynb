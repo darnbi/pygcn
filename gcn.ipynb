{
 "cells": [
  {
   "cell_type": "code",
   "execution_count": 1,
   "metadata": {},
   "outputs": [],
   "source": [
    "from __future__ import division\n",
    "from __future__ import print_function\n",
    "\n",
    "import time\n",
    "import argparse\n",
    "import numpy as np\n",
    "\n",
    "import torch\n",
    "import torch.nn.functional as F\n",
    "import torch.optim as optim"
   ]
  },
  {
   "cell_type": "code",
   "execution_count": 2,
   "metadata": {},
   "outputs": [],
   "source": [
    "from pygcn.utils import load_data, accuracy\n",
    "from pygcn.models import GCN\n",
    "from pygcn.train import train, test"
   ]
  },
  {
   "cell_type": "code",
   "execution_count": 3,
   "metadata": {},
   "outputs": [],
   "source": [
    "# Setting\n",
    "seed = 42\n",
    "num_epoch = 201\n",
    "lr = 0.01\n",
    "weight_decay = 5e-4\n",
    "hidden = 16\n",
    "dropout = 0.5\n",
    "cuda = False"
   ]
  },
  {
   "cell_type": "code",
   "execution_count": 4,
   "metadata": {},
   "outputs": [
    {
     "name": "stdout",
     "output_type": "stream",
     "text": [
      "Loading cora dataset...\n",
      "Done loading cora dataset\n"
     ]
    }
   ],
   "source": [
    "np.random.seed(seed)\n",
    "torch.manual_seed(seed)\n",
    "\n",
    "# Load data\n",
    "adj, features, labels, idx_train, idx_val, idx_test = load_data(path=\"data/cora/\")\n",
    "\n",
    "# Model and optimizer\n",
    "model = GCN(nfeat=features.shape[1],\n",
    "                nhid=hidden,\n",
    "                nclass=labels.max().item() + 1,\n",
    "                dropout=dropout)\n",
    "optimizer = optim.Adam(model.parameters(),\n",
    "                        lr=lr, weight_decay=weight_decay)\n"
   ]
  },
  {
   "cell_type": "code",
   "execution_count": 5,
   "metadata": {},
   "outputs": [],
   "source": [
    "# Move to cuda if use GPU\n",
    "if cuda:\n",
    "    model.cuda()\n",
    "    features = features.cuda()\n",
    "    adj = adj.cuda()\n",
    "    labels = labels.cuda()\n",
    "    idx_train = idx_train.cuda()\n",
    "    idx_val = idx_val.cuda()\n",
    "    idx_test = idx_test.cuda()"
   ]
  },
  {
   "cell_type": "code",
   "execution_count": 6,
   "metadata": {},
   "outputs": [
    {
     "name": "stdout",
     "output_type": "stream",
     "text": [
      "Epoch: 0001 loss_train: 1.9775 acc_train: 0.1286 loss_val: 1.9681 acc_val: 0.1567 time: 0.9265s\n",
      "Epoch: 0021 loss_train: 1.7478 acc_train: 0.2929 loss_val: 1.7282 acc_val: 0.3500 time: 0.0220s\n",
      "Epoch: 0041 loss_train: 1.5040 acc_train: 0.4000 loss_val: 1.5538 acc_val: 0.4000 time: 0.0250s\n",
      "Epoch: 0061 loss_train: 1.1857 acc_train: 0.6857 loss_val: 1.3011 acc_val: 0.6300 time: 0.0280s\n",
      "Epoch: 0081 loss_train: 0.9250 acc_train: 0.7929 loss_val: 1.0720 acc_val: 0.7733 time: 0.0240s\n",
      "Epoch: 0101 loss_train: 0.6933 acc_train: 0.9071 loss_val: 0.9171 acc_val: 0.8067 time: 0.0240s\n",
      "Epoch: 0121 loss_train: 0.6232 acc_train: 0.9071 loss_val: 0.8253 acc_val: 0.8000 time: 0.0230s\n",
      "Epoch: 0141 loss_train: 0.5003 acc_train: 0.9286 loss_val: 0.7732 acc_val: 0.8033 time: 0.0240s\n",
      "Epoch: 0161 loss_train: 0.4544 acc_train: 0.9357 loss_val: 0.7305 acc_val: 0.8100 time: 0.0230s\n",
      "Epoch: 0181 loss_train: 0.4096 acc_train: 0.9643 loss_val: 0.6992 acc_val: 0.8167 time: 0.0260s\n",
      "Epoch: 0201 loss_train: 0.3952 acc_train: 0.9500 loss_val: 0.6902 acc_val: 0.8167 time: 0.0270s\n",
      "Optimization Finished!\n",
      "Total time elapsed: 4.6044s\n"
     ]
    }
   ],
   "source": [
    "# Train model\n",
    "train(features, adj, labels, idx_train, idx_val, model, optimizer, num_epoch)    "
   ]
  },
  {
   "cell_type": "code",
   "execution_count": 7,
   "metadata": {},
   "outputs": [
    {
     "name": "stdout",
     "output_type": "stream",
     "text": [
      "Test set results: loss= 0.7144 accuracy= 0.8320\n"
     ]
    }
   ],
   "source": [
    "# Test model\n",
    "test(features, adj, labels, idx_test, model)"
   ]
  },
  {
   "cell_type": "code",
   "execution_count": 8,
   "metadata": {},
   "outputs": [
    {
     "name": "stdout",
     "output_type": "stream",
     "text": [
      "torch.Size([2708, 7])\n"
     ]
    }
   ],
   "source": [
    "# shape of final GCN output\n",
    "# 2708 nodes, 7 features each\n",
    "model.eval()\n",
    "output = model(features, adj)\n",
    "output_2 = output.cpu().detach().numpy()\n",
    "#save embeddings in numpy format file\n",
    "np.save('embedding_2.npy', output_2)\n",
    "print(output.shape)"
   ]
  },
  {
   "cell_type": "code",
   "execution_count": 9,
   "metadata": {},
   "outputs": [],
   "source": [
    "from sklearn.decomposition import PCA\n",
    "from sklearn.manifold import TSNE\n",
    "%matplotlib inline\n",
    "import matplotlib.pyplot as plt\n",
    "from mpl_toolkits.mplot3d import Axes3D\n",
    "import seaborn as sns"
   ]
  },
  {
   "cell_type": "code",
   "execution_count": 10,
   "metadata": {},
   "outputs": [],
   "source": [
    "import pandas as pd"
   ]
  },
  {
   "cell_type": "code",
   "execution_count": 11,
   "metadata": {},
   "outputs": [
    {
     "name": "stdout",
     "output_type": "stream",
     "text": [
      "Size of the dataframe: (2708, 8)\n"
     ]
    }
   ],
   "source": [
    "feat_cols = [ 'dim'+str(i) for i in range(output.shape[1])]\n",
    "df = pd.DataFrame(output.detach().cpu().numpy(), columns=feat_cols)\n",
    "df['label'] = labels\n",
    "print('Size of the dataframe: {}'.format(df.shape))"
   ]
  },
  {
   "cell_type": "code",
   "execution_count": 12,
   "metadata": {},
   "outputs": [
    {
     "name": "stdout",
     "output_type": "stream",
     "text": [
      "Explained variation per principal component: [0.49270335 0.1948728  0.11997908]\n"
     ]
    }
   ],
   "source": [
    "pca = PCA(n_components=3)\n",
    "pca_result = pca.fit_transform(df[feat_cols].values)\n",
    "df['pca-one'] = pca_result[:,0]\n",
    "df['pca-two'] = pca_result[:,1] \n",
    "df['pca-three'] = pca_result[:,2]\n",
    "print('Explained variation per principal component: {}'.format(pca.explained_variance_ratio_))"
   ]
  },
  {
   "cell_type": "code",
   "execution_count": 13,
   "metadata": {},
   "outputs": [
    {
     "name": "stdout",
     "output_type": "stream",
     "text": [
      "[[-4.956924   -3.9997063  -5.618423   ... -5.953792   -4.9827\n",
      "  -5.5522656 ]\n",
      " [-1.6026056  -3.686058   -0.8451312  ... -3.2764738  -2.192847\n",
      "  -1.8243399 ]\n",
      " [-3.9293327  -4.8059464  -3.864922   ... -4.265363   -0.13311777\n",
      "  -3.3009799 ]\n",
      " ...\n",
      " [-2.4777071  -3.6391432  -2.682134   ... -0.4411228  -2.7484808\n",
      "  -2.753981  ]\n",
      " [-3.916076   -3.286599   -2.6711898  ... -3.4282498  -2.4897256\n",
      "  -0.32284778]\n",
      " [-4.4061756  -3.826961   -4.455226   ... -4.430542   -4.384447\n",
      "  -4.169762  ]]\n"
     ]
    }
   ],
   "source": [
    "print(df[feat_cols].values)"
   ]
  },
  {
   "cell_type": "code",
   "execution_count": 14,
   "metadata": {},
   "outputs": [
    {
     "ename": "AttributeError",
     "evalue": "module 'seaborn' has no attribute 'scatterplot'",
     "output_type": "error",
     "traceback": [
      "\u001b[1;31m---------------------------------------------------------------------------\u001b[0m",
      "\u001b[1;31mAttributeError\u001b[0m                            Traceback (most recent call last)",
      "\u001b[1;32m<ipython-input-14-0c5f57d410c5>\u001b[0m in \u001b[0;36m<module>\u001b[1;34m()\u001b[0m\n\u001b[0;32m      1\u001b[0m \u001b[0mplt\u001b[0m\u001b[1;33m.\u001b[0m\u001b[0mfigure\u001b[0m\u001b[1;33m(\u001b[0m\u001b[0mfigsize\u001b[0m\u001b[1;33m=\u001b[0m\u001b[1;33m(\u001b[0m\u001b[1;36m16\u001b[0m\u001b[1;33m,\u001b[0m\u001b[1;36m10\u001b[0m\u001b[1;33m)\u001b[0m\u001b[1;33m)\u001b[0m\u001b[1;33m\u001b[0m\u001b[0m\n\u001b[1;32m----> 2\u001b[1;33m sns.scatterplot(\n\u001b[0m\u001b[0;32m      3\u001b[0m     \u001b[0mx\u001b[0m\u001b[1;33m=\u001b[0m\u001b[1;34m\"pca-one\"\u001b[0m\u001b[1;33m,\u001b[0m \u001b[0my\u001b[0m\u001b[1;33m=\u001b[0m\u001b[1;34m\"pca-two\"\u001b[0m\u001b[1;33m,\u001b[0m\u001b[1;33m\u001b[0m\u001b[0m\n\u001b[0;32m      4\u001b[0m     \u001b[0mhue\u001b[0m\u001b[1;33m=\u001b[0m\u001b[1;34m\"label\"\u001b[0m\u001b[1;33m,\u001b[0m\u001b[1;33m\u001b[0m\u001b[0m\n\u001b[0;32m      5\u001b[0m     \u001b[0mpalette\u001b[0m\u001b[1;33m=\u001b[0m\u001b[0msns\u001b[0m\u001b[1;33m.\u001b[0m\u001b[0mcolor_palette\u001b[0m\u001b[1;33m(\u001b[0m\u001b[1;34m\"hls\"\u001b[0m\u001b[1;33m,\u001b[0m \u001b[1;36m7\u001b[0m\u001b[1;33m)\u001b[0m\u001b[1;33m,\u001b[0m\u001b[1;33m\u001b[0m\u001b[0m\n",
      "\u001b[1;31mAttributeError\u001b[0m: module 'seaborn' has no attribute 'scatterplot'"
     ]
    },
    {
     "data": {
      "text/plain": [
       "<Figure size 1152x720 with 0 Axes>"
      ]
     },
     "metadata": {},
     "output_type": "display_data"
    }
   ],
   "source": [
    "plt.figure(figsize=(16,10))\n",
    "sns.scatterplot(\n",
    "    x=\"pca-one\", y=\"pca-two\",\n",
    "    hue=\"label\",\n",
    "    palette=sns.color_palette(\"hls\", 7),\n",
    "    data=df.loc[:,:],\n",
    "    legend=\"full\",\n",
    "    alpha=0.3\n",
    ")"
   ]
  },
  {
   "cell_type": "code",
   "execution_count": null,
   "metadata": {},
   "outputs": [],
   "source": [
    "ax = plt.figure(figsize=(16,10)).gca(projection='3d')\n",
    "ax.scatter(\n",
    "    xs=df.loc[:,:][\"pca-one\"], \n",
    "    ys=df.loc[:,:][\"pca-two\"], \n",
    "    zs=df.loc[:,:][\"pca-three\"], \n",
    "    c=df.loc[:,:][\"label\"], \n",
    "    cmap='tab10'\n",
    ")\n",
    "ax.set_xlabel('pca-one')\n",
    "ax.set_ylabel('pca-two')\n",
    "ax.set_zlabel('pca-three')\n",
    "plt.show()"
   ]
  },
  {
   "cell_type": "code",
   "execution_count": null,
   "metadata": {},
   "outputs": [],
   "source": [
    "time_start = time.time()\n",
    "tsne = TSNE(n_components=2, verbose=1, perplexity=40, n_iter=10000)\n",
    "tsne_results = tsne.fit_transform(df[feat_cols].values)\n",
    "print('t-SNE done! Time elapsed: {} seconds'.format(time.time()-time_start))"
   ]
  },
  {
   "cell_type": "code",
   "execution_count": null,
   "metadata": {},
   "outputs": [],
   "source": [
    "df['tsne-2d-one'] = tsne_results[:,0]\n",
    "df['tsne-2d-two'] = tsne_results[:,1]\n",
    "plt.figure(figsize=(16,10))\n",
    "sns.scatterplot(\n",
    "    x=\"tsne-2d-one\", y=\"tsne-2d-two\",\n",
    "    hue=\"label\",\n",
    "    palette=sns.color_palette(\"hls\", 7),\n",
    "    data=df,\n",
    "    legend=\"full\",\n",
    "    alpha=0.3\n",
    ")"
   ]
  },
  {
   "cell_type": "code",
   "execution_count": null,
   "metadata": {},
   "outputs": [],
   "source": [
    "# After you train the model, you can try to export the embeddings into the file (numpy)\n",
    "# You can train and generate the embeddings with another seed\n",
    "# You can try to calculate the alignment matrix by using the dot product\n",
    "# You can try to visualize the two embedding spaces"
   ]
  },
  {
   "cell_type": "code",
   "execution_count": null,
   "metadata": {},
   "outputs": [],
   "source": []
  }
 ],
 "metadata": {
  "kernelspec": {
   "display_name": "Python 3",
   "language": "python",
   "name": "python3"
  },
  "language_info": {
   "codemirror_mode": {
    "name": "ipython",
    "version": 3
   },
   "file_extension": ".py",
   "mimetype": "text/x-python",
   "name": "python",
   "nbconvert_exporter": "python",
   "pygments_lexer": "ipython3",
   "version": "3.6.5"
  }
 },
 "nbformat": 4,
 "nbformat_minor": 2
}
