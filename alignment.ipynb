{
 "cells": [
  {
   "cell_type": "code",
   "execution_count": 1,
   "metadata": {},
   "outputs": [],
   "source": [
    "import numpy as np\n",
    "\n",
    "import torch\n",
    "import torch.nn.functional as F\n",
    "import torch.optim as optim\n",
    "\n",
    "from pygcn.alignment import alignment"
   ]
  },
  {
   "cell_type": "code",
   "execution_count": 2,
   "metadata": {},
   "outputs": [],
   "source": [
    "#first KG graph\n",
    "embed_1 = np.load(\"embedding_1.npy\")\n",
    "#secdond KG graph\n",
    "embed_2 = np.load(\"embedding_2.npy\")"
   ]
  },
  {
   "cell_type": "code",
   "execution_count": 6,
   "metadata": {},
   "outputs": [
    {
     "data": {
      "text/plain": [
       "array([-4.9948416 , -0.06197927, -5.641743  , -3.349665  , -5.760838  ,\n",
       "       -4.9979553 , -5.342922  ], dtype=float32)"
      ]
     },
     "execution_count": 6,
     "metadata": {},
     "output_type": "execute_result"
    }
   ],
   "source": [
    "embed_1[0]"
   ]
  },
  {
   "cell_type": "code",
   "execution_count": 3,
   "metadata": {},
   "outputs": [],
   "source": [
    "alignment_matrix = alignment(embed_1, embed_2)"
   ]
  },
  {
   "cell_type": "code",
   "execution_count": 5,
   "metadata": {},
   "outputs": [
    {
     "name": "stdout",
     "output_type": "stream",
     "text": [
      "[[145.71694946  63.97237778  96.96774292 ...  68.73620605  80.07180023\n",
      "  117.39532471]\n",
      " [ 66.2310791   44.81179428  61.10004425 ...  49.87742615  50.06118011\n",
      "   56.41870499]\n",
      " [ 93.72446442  56.94811249  89.942276   ...  58.44482422  64.59456635\n",
      "   76.6025238 ]\n",
      " ...\n",
      " [128.81765747  56.60392761  85.44165039 ...  60.94890976  69.7387085\n",
      "  103.65478516]\n",
      " [146.67353821  64.43987274  97.79039001 ...  69.26307678  80.71248627\n",
      "  118.14930725]\n",
      " [ 85.19845581  43.81170654  63.80784988 ...  49.16953278  47.49429321\n",
      "   69.43823242]]\n"
     ]
    }
   ],
   "source": [
    "print(alignment_matrix[:10][:10])"
   ]
  },
  {
   "cell_type": "code",
   "execution_count": null,
   "metadata": {},
   "outputs": [],
   "source": []
  },
  {
   "cell_type": "code",
   "execution_count": null,
   "metadata": {},
   "outputs": [],
   "source": []
  }
 ],
 "metadata": {
  "kernelspec": {
   "display_name": "Python 3",
   "language": "python",
   "name": "python3"
  },
  "language_info": {
   "codemirror_mode": {
    "name": "ipython",
    "version": 3
   },
   "file_extension": ".py",
   "mimetype": "text/x-python",
   "name": "python",
   "nbconvert_exporter": "python",
   "pygments_lexer": "ipython3",
   "version": "3.6.5"
  }
 },
 "nbformat": 4,
 "nbformat_minor": 2
}
