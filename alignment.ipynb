{
 "cells": [
  {
   "cell_type": "code",
   "execution_count": 1,
   "metadata": {},
   "outputs": [],
   "source": [
    "import numpy as np\n",
    "from sklearn.preprocessing import normalize\n",
    "\n",
    "from pygcn.alignment import naive_alignment, alignment"
   ]
  },
  {
   "cell_type": "code",
   "execution_count": 2,
   "metadata": {},
   "outputs": [],
   "source": [
    "#first KG graph\n",
    "embed_1 = np.load(\"embedding_1.npy\")\n",
    "#second KG graph\n",
    "embed_2 = np.load(\"embedding_2.npy\")"
   ]
  },
  {
   "cell_type": "code",
   "execution_count": 3,
   "metadata": {},
   "outputs": [],
   "source": [
    "#Normalize the embeddings\n",
    "embed_1 = normalize(embed_1, axis = 1)\n",
    "embed_2 = normalize(embed_2, axis = 1)"
   ]
  },
  {
   "cell_type": "code",
   "execution_count": 4,
   "metadata": {},
   "outputs": [
    {
     "name": "stdout",
     "output_type": "stream",
     "text": [
      "[-0.46834302 -0.4282403  -0.00541944 -0.26960653 -0.32542387 -0.49226317\n",
      " -0.41990983]\n",
      "[-0.46154103 -0.42654452 -0.00635267 -0.28212535 -0.35870144 -0.48198783\n",
      " -0.40549424]\n",
      "0.9999999628835212\n",
      "1.0000000040890882\n"
     ]
    }
   ],
   "source": [
    "print(embed_1[0])\n",
    "print(embed_2[0])\n",
    "print(sum(embed_1[0] ** 2))\n",
    "print(sum(embed_2[0] ** 2))"
   ]
  },
  {
   "cell_type": "code",
   "execution_count": 5,
   "metadata": {},
   "outputs": [
    {
     "name": "stdout",
     "output_type": "stream",
     "text": [
      "--- 5.046616792678833 seconds ---\n"
     ]
    }
   ],
   "source": [
    "import time\n",
    "start_time = time.time()\n",
    "naive_alignment_matrix = naive_alignment(embed_1, embed_2)\n",
    "print(\"--- %s seconds ---\" % (time.time() - start_time))"
   ]
  },
  {
   "cell_type": "code",
   "execution_count": 14,
   "metadata": {},
   "outputs": [
    {
     "name": "stdout",
     "output_type": "stream",
     "text": [
      "--- 0.03607606887817383 seconds ---\n"
     ]
    }
   ],
   "source": [
    "import time\n",
    "start_time = time.time()\n",
    "alignment_matrix = alignment(embed_1, embed_1)\n",
    "print(\"--- %s seconds ---\" % (time.time() - start_time))"
   ]
  },
  {
   "cell_type": "code",
   "execution_count": 9,
   "metadata": {},
   "outputs": [
    {
     "name": "stdout",
     "output_type": "stream",
     "text": [
      "4.680595307090582e-08\n"
     ]
    }
   ],
   "source": [
    "#Frobius norm\n",
    "print(np.linalg.norm(naive_alignment_matrix - alignment_matrix) / alignment_matrix.shape[0])"
   ]
  },
  {
   "cell_type": "code",
   "execution_count": 16,
   "metadata": {},
   "outputs": [
    {
     "name": "stdout",
     "output_type": "stream",
     "text": [
      "[   0    1    2 ... 2705 2706 2707]\n"
     ]
    }
   ],
   "source": [
    "print(np.argmax(alignment_matrix, axis = 1))"
   ]
  }
 ],
 "metadata": {
  "kernelspec": {
   "display_name": "Python 3",
   "language": "python",
   "name": "python3"
  },
  "language_info": {
   "codemirror_mode": {
    "name": "ipython",
    "version": 3
   },
   "file_extension": ".py",
   "mimetype": "text/x-python",
   "name": "python",
   "nbconvert_exporter": "python",
   "pygments_lexer": "ipython3",
   "version": "3.7.3"
  }
 },
 "nbformat": 4,
 "nbformat_minor": 2
}
